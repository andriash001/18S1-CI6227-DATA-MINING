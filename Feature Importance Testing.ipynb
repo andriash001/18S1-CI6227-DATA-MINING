{
 "cells": [
  {
   "cell_type": "markdown",
   "metadata": {},
   "source": [
    "## Installing Libraries"
   ]
  },
  {
   "cell_type": "code",
   "execution_count": 1,
   "metadata": {},
   "outputs": [],
   "source": [
    "import numpy as np\n",
    "from catboost import CatBoostClassifier, FeaturesData\n",
    "import pandas as pd\n",
    "from sklearn.metrics import confusion_matrix\n",
    "import scipy.io \n",
    "import h5py "
   ]
  },
  {
   "cell_type": "markdown",
   "metadata": {},
   "source": [
    "## Data Preprocessing "
   ]
  },
  {
   "cell_type": "markdown",
   "metadata": {},
   "source": [
    "#### Loading Data"
   ]
  },
  {
   "cell_type": "code",
   "execution_count": 2,
   "metadata": {},
   "outputs": [],
   "source": [
    "data1 = scipy.io.loadmat(r'C:\\Users\\mohamedr002\\OneDrive\\PhD Work\\Ph.D Courses\\Data Mining\\Data Mining Project\\Full Features\\normalized_data.mat')\n",
    "data=data1.get('normalizedData')\n",
    "train_data=data[:, 0:13]\n",
    "labels=data[:,13]"
   ]
  },
  {
   "cell_type": "code",
   "execution_count": 98,
   "metadata": {},
   "outputs": [
    {
     "name": "stdout",
     "output_type": "stream",
     "text": [
      "(500000, 12)\n"
     ]
    }
   ],
   "source": [
    "# # Testing by Removing specific feature for every time \n",
    "# specify the feture you want to remove \n",
    "train_data=np.delete(train_data, np.s_[12], axis=1) \n",
    "print(train_data.shape)"
   ]
  },
  {
   "cell_type": "markdown",
   "metadata": {},
   "source": [
    "#### Processing data "
   ]
  },
  {
   "cell_type": "code",
   "execution_count": 3,
   "metadata": {},
   "outputs": [],
   "source": [
    "# folding data and labels into five folds \n",
    "def folding_data(data):\n",
    "    if data.ndim==2:\n",
    "        f1=data[0:100000,:]\n",
    "        f2=data[100000:200000,:]\n",
    "        f3=data[200000:300000,:]\n",
    "        f4=data[300000:400000,:]\n",
    "        f5=data[400000:500000,:]\n",
    "        return (f1,f2,f3,f4,f5)\n",
    "    elif data.ndim==1:\n",
    "        f1=data[0:100000]\n",
    "        f2=data[100000:200000]\n",
    "        f3=data[200000:300000]\n",
    "        f4=data[300000:400000]\n",
    "        f5=data[400000:500000]\n",
    "        return(f1,f2,f3,f4,f5)\n",
    "                      "
   ]
  },
  {
   "cell_type": "code",
   "execution_count": 6,
   "metadata": {},
   "outputs": [
    {
     "name": "stdout",
     "output_type": "stream",
     "text": [
      "<class 'list'>\n"
     ]
    }
   ],
   "source": [
    "(fold1,fold2,fold3,fold4,fold5)=folding_data(train_data)\n",
    "(fold1Label,fold2Label,fold3Label,fold4Label,fold5Label)=folding_data(labels)\n",
    "\n",
    "accuaracy =[]\n",
    "fold=[fold1.tolist(), fold2.tolist(),fold3.tolist(),fold4.tolist(),fold5.tolist()]\n",
    "foldlabel=[fold1Label.tolist(),fold2Label.tolist(),fold3Label.tolist(),fold4Label.tolist(),fold5Label.tolist()]\n",
    "print(type(fold[0]))"
   ]
  },
  {
   "cell_type": "markdown",
   "metadata": {},
   "source": [
    "##  Training and Testing "
   ]
  },
  {
   "cell_type": "code",
   "execution_count": 11,
   "metadata": {},
   "outputs": [],
   "source": [
    "for i in range (0,4):\n",
    "   \n",
    "    #preprocessing the data for k-fold\n",
    "    test_data=fold[i]\n",
    "    temp_fold=fold[:]\n",
    "    del temp_fold[i]\n",
    "    train_data = np.concatenate(temp_fold)\n",
    "    print(train_data.shape)\n",
    "    \n",
    "    #preprocessing the labels for k-fold\n",
    "    test_labels=foldlabel[i]\n",
    "    temp_label=foldlabel[:]\n",
    "    del temp_label[i]\n",
    "    train_labels= np.concatenate(temp_label)\n",
    "    \n",
    "    # Initialize CatBoostClassifier\n",
    "    model = CatBoostClassifier(iterations=5, learning_rate=0.05, depth=6, loss_function='MultiClass')\n",
    "    # Fit model\n",
    "    model.fit(train_data, train_labels, plot=True)\n",
    "    \n",
    "    # Get predicted classes\n",
    "    preds_class = model.predict(test_data)\n",
    "    # Get predicted probabilities for each class\n",
    "    preds_proba = model.predict_proba(test_data)\n",
    "    # Get predicted RawFormulaVal\n",
    "    preds_raw = model.predict(test_data, prediction_type='RawFormulaVal')\n",
    "    \n",
    "    \n",
    "    # Get Confusion matrix\n",
    "    confusionMat=confusion_matrix(test_labels, preds_class)\n",
    "    accuaracy.append(np.sum(np.diagonal(confusionMat))/np.sum(confusionMat))"
   ]
  }
 ],
 "metadata": {
  "kernelspec": {
   "display_name": "Python 3",
   "language": "python",
   "name": "python3"
  },
  "language_info": {
   "codemirror_mode": {
    "name": "ipython",
    "version": 3
   },
   "file_extension": ".py",
   "mimetype": "text/x-python",
   "name": "python",
   "nbconvert_exporter": "python",
   "pygments_lexer": "ipython3",
   "version": "3.6.6"
  }
 },
 "nbformat": 4,
 "nbformat_minor": 2
}
